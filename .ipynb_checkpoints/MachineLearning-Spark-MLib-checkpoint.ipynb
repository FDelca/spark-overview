{
 "cells": [
  {
   "cell_type": "code",
   "execution_count": 58,
   "id": "a05cd815",
   "metadata": {},
   "outputs": [
    {
     "data": {
      "text/html": [
       "<style>.container { width:100% !important; }</style>"
      ],
      "text/plain": [
       "<IPython.core.display.HTML object>"
      ]
     },
     "metadata": {},
     "output_type": "display_data"
    }
   ],
   "source": [
    "from IPython.display import display, HTML\n",
    "display(HTML(\"<style>.container { width:100% !important; }</style>\"))"
   ]
  },
  {
   "cell_type": "markdown",
   "id": "d9f20557",
   "metadata": {},
   "source": [
    "# Spark's MLlib"
   ]
  },
  {
   "cell_type": "markdown",
   "id": "281aae28",
   "metadata": {},
   "source": [
    "Check this [link](https://databricks.com/glossary/what-is-machine-learning-library) to understand better what is MLlib"
   ]
  },
  {
   "cell_type": "code",
   "execution_count": 2,
   "id": "eb896b12",
   "metadata": {},
   "outputs": [],
   "source": [
    "from pyspark.sql import SparkSession\n",
    "import os"
   ]
  },
  {
   "cell_type": "code",
   "execution_count": 3,
   "id": "de01f1dc",
   "metadata": {},
   "outputs": [
    {
     "name": "stderr",
     "output_type": "stream",
     "text": [
      "22/05/26 16:14:12 WARN NativeCodeLoader: Unable to load native-hadoop library for your platform... using builtin-java classes where applicable\n",
      "Using Spark's default log4j profile: org/apache/spark/log4j-defaults.properties\n",
      "Setting default log level to \"WARN\".\n",
      "To adjust logging level use sc.setLogLevel(newLevel). For SparkR, use setLogLevel(newLevel).\n"
     ]
    }
   ],
   "source": [
    "spark = SparkSession.builder.appName('linearReg').getOrCreate()"
   ]
  },
  {
   "cell_type": "code",
   "execution_count": 4,
   "id": "012f0624",
   "metadata": {},
   "outputs": [],
   "source": [
    "from pyspark.ml.regression import LinearRegression"
   ]
  },
  {
   "cell_type": "markdown",
   "id": "487831a1",
   "metadata": {},
   "source": [
    "## 1. Example - Linear Regression "
   ]
  },
  {
   "cell_type": "code",
   "execution_count": 5,
   "id": "2e373209",
   "metadata": {},
   "outputs": [
    {
     "name": "stderr",
     "output_type": "stream",
     "text": [
      "22/05/26 16:14:15 WARN LibSVMFileFormat: 'numFeatures' option not specified, determining the number of features by going though the input. If you know the number in advance, please specify it via 'numFeatures' option to avoid the extra scan.\n"
     ]
    }
   ],
   "source": [
    "df = spark.read.format('libsvm').load(os.path.join('data', 'lr_data_sample.txt'))"
   ]
  },
  {
   "cell_type": "markdown",
   "id": "14f1a353",
   "metadata": {},
   "source": [
    "### Split your data"
   ]
  },
  {
   "cell_type": "code",
   "execution_count": 6,
   "id": "a2850612",
   "metadata": {},
   "outputs": [],
   "source": [
    "# Data Split with 70% for train and 30% for testing\n",
    "train, test = df.randomSplit([0.7, 0.3])"
   ]
  },
  {
   "cell_type": "code",
   "execution_count": 7,
   "id": "81dc6891",
   "metadata": {},
   "outputs": [
    {
     "name": "stdout",
     "output_type": "stream",
     "text": [
      "+-------+-------------------+\n",
      "|summary|              label|\n",
      "+-------+-------------------+\n",
      "|  count|                345|\n",
      "|   mean| 0.7885039288412324|\n",
      "| stddev| 10.002031195425062|\n",
      "|    min|-28.571478869743427|\n",
      "|    max|  27.78383192005107|\n",
      "+-------+-------------------+\n",
      "\n"
     ]
    }
   ],
   "source": [
    "train.describe().show()"
   ]
  },
  {
   "cell_type": "code",
   "execution_count": 8,
   "id": "01fd568f",
   "metadata": {},
   "outputs": [
    {
     "name": "stdout",
     "output_type": "stream",
     "text": [
      "+-------+-------------------+\n",
      "|summary|              label|\n",
      "+-------+-------------------+\n",
      "|  count|                156|\n",
      "|   mean|-0.9187984328880441|\n",
      "| stddev| 10.925630659953766|\n",
      "|    min|-28.046018037776633|\n",
      "|    max| 26.903524792043335|\n",
      "+-------+-------------------+\n",
      "\n"
     ]
    }
   ],
   "source": [
    "test.describe().show()"
   ]
  },
  {
   "cell_type": "markdown",
   "id": "b8235f47",
   "metadata": {},
   "source": [
    "### Data Format"
   ]
  },
  {
   "cell_type": "markdown",
   "id": "4f5ac380",
   "metadata": {},
   "source": [
    "This is the format that **spark** needs to run a machine learning model:"
   ]
  },
  {
   "cell_type": "code",
   "execution_count": 9,
   "id": "8b1de1c6",
   "metadata": {
    "scrolled": true
   },
   "outputs": [
    {
     "name": "stdout",
     "output_type": "stream",
     "text": [
      "+-------------------+--------------------+\n",
      "|              label|            features|\n",
      "+-------------------+--------------------+\n",
      "|-28.571478869743427|(10,[0,1,2,3,4,5,...|\n",
      "|-26.736207182601724|(10,[0,1,2,3,4,5,...|\n",
      "| -23.51088409032297|(10,[0,1,2,3,4,5,...|\n",
      "+-------------------+--------------------+\n",
      "only showing top 3 rows\n",
      "\n"
     ]
    }
   ],
   "source": [
    "train.show(n=3)"
   ]
  },
  {
   "cell_type": "code",
   "execution_count": 10,
   "id": "e5599454",
   "metadata": {},
   "outputs": [
    {
     "name": "stdout",
     "output_type": "stream",
     "text": [
      "root\n",
      " |-- label: double (nullable = true)\n",
      " |-- features: vector (nullable = true)\n",
      "\n"
     ]
    }
   ],
   "source": [
    "train.printSchema()"
   ]
  },
  {
   "cell_type": "markdown",
   "id": "76b0b627",
   "metadata": {},
   "source": [
    "### Modelling"
   ]
  },
  {
   "cell_type": "code",
   "execution_count": 12,
   "id": "b0eba3bd",
   "metadata": {},
   "outputs": [],
   "source": [
    "lr = LinearRegression(\n",
    "    featuresCol='features', # NAME OF THE FEATURES COLUMN\n",
    "    labelCol='label', # NAME OF THE LABEL COLUMN\n",
    "    predictionCol='prediction' # NAME OF THE PREDICTION COLUMN\n",
    ")"
   ]
  },
  {
   "cell_type": "code",
   "execution_count": 13,
   "id": "fa1bc98d",
   "metadata": {},
   "outputs": [
    {
     "name": "stderr",
     "output_type": "stream",
     "text": [
      "22/05/26 16:16:46 WARN Instrumentation: [991d6db4] regParam is zero, which might cause numerical instability and overfitting.\n",
      "22/05/26 16:16:46 WARN BLAS: Failed to load implementation from: com.github.fommil.netlib.NativeSystemBLAS\n",
      "22/05/26 16:16:46 WARN BLAS: Failed to load implementation from: com.github.fommil.netlib.NativeRefBLAS\n",
      "22/05/26 16:16:46 WARN LAPACK: Failed to load implementation from: com.github.fommil.netlib.NativeSystemLAPACK\n",
      "22/05/26 16:16:46 WARN LAPACK: Failed to load implementation from: com.github.fommil.netlib.NativeRefLAPACK\n"
     ]
    }
   ],
   "source": [
    "# Train\n",
    "model = lr.fit(train)"
   ]
  },
  {
   "cell_type": "markdown",
   "id": "5e4c1c24",
   "metadata": {},
   "source": [
    "#### Specs of the model"
   ]
  },
  {
   "cell_type": "code",
   "execution_count": 14,
   "id": "ee6a7df9",
   "metadata": {},
   "outputs": [
    {
     "data": {
      "text/plain": [
       "DenseVector([0.1533, 1.412, -1.1241, 2.8744, -0.0085, 1.5498, -0.3403, -0.3233, -1.0591, 1.3222])"
      ]
     },
     "execution_count": 14,
     "metadata": {},
     "output_type": "execute_result"
    }
   ],
   "source": [
    "model.coefficients"
   ]
  },
  {
   "cell_type": "code",
   "execution_count": 15,
   "id": "1f4237a5",
   "metadata": {},
   "outputs": [
    {
     "data": {
      "text/plain": [
       "0.5594423746755619"
      ]
     },
     "execution_count": 15,
     "metadata": {},
     "output_type": "execute_result"
    }
   ],
   "source": [
    "model.intercept"
   ]
  },
  {
   "cell_type": "markdown",
   "id": "79bae713",
   "metadata": {},
   "source": [
    "#### Score on Training"
   ]
  },
  {
   "cell_type": "code",
   "execution_count": 16,
   "id": "125676c4",
   "metadata": {},
   "outputs": [],
   "source": [
    "model_summary = model.summary"
   ]
  },
  {
   "cell_type": "code",
   "execution_count": 17,
   "id": "e881ffd9",
   "metadata": {},
   "outputs": [
    {
     "data": {
      "text/plain": [
       "0.04849394438929033"
      ]
     },
     "execution_count": 17,
     "metadata": {},
     "output_type": "execute_result"
    }
   ],
   "source": [
    "model_summary.r2"
   ]
  },
  {
   "cell_type": "code",
   "execution_count": 18,
   "id": "5048f9dd",
   "metadata": {},
   "outputs": [
    {
     "data": {
      "text/plain": [
       "9.74234840648498"
      ]
     },
     "execution_count": 18,
     "metadata": {},
     "output_type": "execute_result"
    }
   ],
   "source": [
    "model_summary.rootMeanSquaredError"
   ]
  },
  {
   "cell_type": "markdown",
   "id": "261b4c1f",
   "metadata": {},
   "source": [
    "#### Score on Testing"
   ]
  },
  {
   "cell_type": "code",
   "execution_count": 19,
   "id": "99ed8fe5",
   "metadata": {},
   "outputs": [],
   "source": [
    "# Test\n",
    "test_score = model.evaluate(test)"
   ]
  },
  {
   "cell_type": "code",
   "execution_count": 20,
   "id": "5801c238",
   "metadata": {},
   "outputs": [
    {
     "name": "stdout",
     "output_type": "stream",
     "text": [
      "+-------------------+\n",
      "|          residuals|\n",
      "+-------------------+\n",
      "| -26.36863958626874|\n",
      "|-28.400912371963727|\n",
      "+-------------------+\n",
      "only showing top 2 rows\n",
      "\n"
     ]
    }
   ],
   "source": [
    "test_score.residuals.show(n=2)"
   ]
  },
  {
   "cell_type": "code",
   "execution_count": 21,
   "id": "dcbc7be4",
   "metadata": {
    "scrolled": true
   },
   "outputs": [
    {
     "data": {
      "text/plain": [
       "11.151442319122411"
      ]
     },
     "execution_count": 21,
     "metadata": {},
     "output_type": "execute_result"
    }
   ],
   "source": [
    "test_score.rootMeanSquaredError"
   ]
  },
  {
   "cell_type": "code",
   "execution_count": 22,
   "id": "bd18442b",
   "metadata": {},
   "outputs": [
    {
     "data": {
      "text/plain": [
       "-0.048484355183125105"
      ]
     },
     "execution_count": 22,
     "metadata": {},
     "output_type": "execute_result"
    }
   ],
   "source": [
    "test_score.r2"
   ]
  },
  {
   "cell_type": "markdown",
   "id": "d873f8ac",
   "metadata": {},
   "source": [
    "### Predict on Unlabel Data"
   ]
  },
  {
   "cell_type": "code",
   "execution_count": 23,
   "id": "0c16488b",
   "metadata": {},
   "outputs": [
    {
     "name": "stdout",
     "output_type": "stream",
     "text": [
      "+--------------------+\n",
      "|            features|\n",
      "+--------------------+\n",
      "|(10,[0,1,2,3,4,5,...|\n",
      "|(10,[0,1,2,3,4,5,...|\n",
      "+--------------------+\n",
      "only showing top 2 rows\n",
      "\n"
     ]
    }
   ],
   "source": [
    "unlabeled_data = test.select('features')\n",
    "unlabeled_data.show(n=2)"
   ]
  },
  {
   "cell_type": "code",
   "execution_count": 24,
   "id": "cb26ec73",
   "metadata": {},
   "outputs": [
    {
     "name": "stdout",
     "output_type": "stream",
     "text": [
      "+--------------------+-------------------+\n",
      "|            features|         prediction|\n",
      "+--------------------+-------------------+\n",
      "|(10,[0,1,2,3,4,5,...|-1.6773784515078956|\n",
      "|(10,[0,1,2,3,4,5,...|  1.595428943480654|\n",
      "+--------------------+-------------------+\n",
      "only showing top 2 rows\n",
      "\n"
     ]
    }
   ],
   "source": [
    "predictions = model.transform(unlabeled_data)\n",
    "predictions.show(n=2)"
   ]
  },
  {
   "cell_type": "markdown",
   "id": "42aa7945",
   "metadata": {},
   "source": [
    "## 2. Example - Linear Regression"
   ]
  },
  {
   "cell_type": "code",
   "execution_count": 25,
   "id": "f18c8e9d",
   "metadata": {},
   "outputs": [],
   "source": [
    "df = spark.read.csv(os.path.join('data', 'Ecommerce_Customers.csv'), inferSchema=True, header=True)"
   ]
  },
  {
   "cell_type": "code",
   "execution_count": 26,
   "id": "594f5bb7",
   "metadata": {},
   "outputs": [
    {
     "name": "stdout",
     "output_type": "stream",
     "text": [
      "root\n",
      " |-- Email: string (nullable = true)\n",
      " |-- Address: string (nullable = true)\n",
      " |-- Avatar: string (nullable = true)\n",
      " |-- Avg Session Length: double (nullable = true)\n",
      " |-- Time on App: double (nullable = true)\n",
      " |-- Time on Website: double (nullable = true)\n",
      " |-- Length of Membership: double (nullable = true)\n",
      " |-- Yearly Amount Spent: double (nullable = true)\n",
      "\n"
     ]
    }
   ],
   "source": [
    "df.printSchema()"
   ]
  },
  {
   "cell_type": "markdown",
   "id": "1a826f97",
   "metadata": {},
   "source": [
    "We will try to predict the `Yearly Amount Spent`"
   ]
  },
  {
   "cell_type": "code",
   "execution_count": 34,
   "id": "f7a11e09",
   "metadata": {},
   "outputs": [
    {
     "data": {
      "text/plain": [
       "{'Email': 'hduke@hotmail.com',\n",
       " 'Address': '4547 Archer CommonDiazchester, CA 06566-8576',\n",
       " 'Avatar': 'DarkGreen',\n",
       " 'Avg Session Length': 31.92627202636016,\n",
       " 'Time on App': 11.109460728682564,\n",
       " 'Time on Website': 37.268958868297744,\n",
       " 'Length of Membership': 2.66403418213262,\n",
       " 'Yearly Amount Spent': 392.2049334443264}"
      ]
     },
     "execution_count": 34,
     "metadata": {},
     "output_type": "execute_result"
    }
   ],
   "source": [
    "df.head(2)[1].asDict()"
   ]
  },
  {
   "cell_type": "markdown",
   "id": "6db0c10d",
   "metadata": {},
   "source": [
    "### Transform data to fit a model"
   ]
  },
  {
   "cell_type": "code",
   "execution_count": 35,
   "id": "c605df33",
   "metadata": {},
   "outputs": [],
   "source": [
    "from pyspark.ml.linalg import Vectors # A requirement ?\n",
    "from pyspark.ml.feature import VectorAssembler # This is going to be use to convert the features into a vector"
   ]
  },
  {
   "cell_type": "code",
   "execution_count": 36,
   "id": "233bd704",
   "metadata": {},
   "outputs": [],
   "source": [
    "assembler = VectorAssembler(\n",
    "    inputCols=['Avg Session Length', 'Time on App', 'Time on Website', 'Length of Membership'], # List of columns that can be use right away - Numerical\n",
    "    outputCol='features' # Name of the final vector\n",
    ")"
   ]
  },
  {
   "cell_type": "code",
   "execution_count": 37,
   "id": "e9fad576",
   "metadata": {},
   "outputs": [],
   "source": [
    "# Transform the data\n",
    "output = assembler.transform(df)"
   ]
  },
  {
   "cell_type": "code",
   "execution_count": 38,
   "id": "9a6bb8c2",
   "metadata": {
    "scrolled": true
   },
   "outputs": [
    {
     "name": "stdout",
     "output_type": "stream",
     "text": [
      "root\n",
      " |-- Email: string (nullable = true)\n",
      " |-- Address: string (nullable = true)\n",
      " |-- Avatar: string (nullable = true)\n",
      " |-- Avg Session Length: double (nullable = true)\n",
      " |-- Time on App: double (nullable = true)\n",
      " |-- Time on Website: double (nullable = true)\n",
      " |-- Length of Membership: double (nullable = true)\n",
      " |-- Yearly Amount Spent: double (nullable = true)\n",
      " |-- features: vector (nullable = true)\n",
      "\n"
     ]
    }
   ],
   "source": [
    "# We have everything than we had before plus the dense vector of the features\n",
    "output.printSchema()"
   ]
  },
  {
   "cell_type": "code",
   "execution_count": 42,
   "id": "76750e96",
   "metadata": {},
   "outputs": [
    {
     "data": {
      "text/plain": [
       "DenseVector([34.4973, 12.6557, 39.5777, 4.0826])"
      ]
     },
     "execution_count": 42,
     "metadata": {},
     "output_type": "execute_result"
    }
   ],
   "source": [
    "# Dense vector as final column of the spark DataFrame\n",
    "output.head(1)[0][-1]"
   ]
  },
  {
   "cell_type": "code",
   "execution_count": 43,
   "id": "f0004c9e",
   "metadata": {},
   "outputs": [],
   "source": [
    "# Select only the label and the features column\n",
    "final_data = output.select('features', 'Yearly Amount Spent')"
   ]
  },
  {
   "cell_type": "code",
   "execution_count": 44,
   "id": "2bb26285",
   "metadata": {},
   "outputs": [],
   "source": [
    "# Split Data\n",
    "train_data, test_data = final_data.randomSplit([0.7, 0.3])"
   ]
  },
  {
   "cell_type": "code",
   "execution_count": 45,
   "id": "37e482d5",
   "metadata": {},
   "outputs": [
    {
     "name": "stdout",
     "output_type": "stream",
     "text": [
      "+-------+-------------------+\n",
      "|summary|Yearly Amount Spent|\n",
      "+-------+-------------------+\n",
      "|  count|                342|\n",
      "|   mean|  498.0343134097524|\n",
      "| stddev|  77.89586877584429|\n",
      "|    min| 256.67058229005585|\n",
      "|    max|  765.5184619388373|\n",
      "+-------+-------------------+\n",
      "\n"
     ]
    }
   ],
   "source": [
    "train_data.describe().show()"
   ]
  },
  {
   "cell_type": "code",
   "execution_count": 46,
   "id": "35f2acfe",
   "metadata": {},
   "outputs": [
    {
     "name": "stdout",
     "output_type": "stream",
     "text": [
      "+-------+-------------------+\n",
      "|summary|Yearly Amount Spent|\n",
      "+-------+-------------------+\n",
      "|  count|                158|\n",
      "|   mean|  502.0840755896203|\n",
      "| stddev|  82.48704495059758|\n",
      "|    min|  282.4712457199145|\n",
      "|    max|  744.2218671047146|\n",
      "+-------+-------------------+\n",
      "\n"
     ]
    }
   ],
   "source": [
    "test_data.describe().show()"
   ]
  },
  {
   "cell_type": "code",
   "execution_count": 47,
   "id": "8f4d8ccb",
   "metadata": {},
   "outputs": [
    {
     "name": "stderr",
     "output_type": "stream",
     "text": [
      "22/05/26 16:28:39 WARN Instrumentation: [30cdd88c] regParam is zero, which might cause numerical instability and overfitting.\n"
     ]
    }
   ],
   "source": [
    "lr = LinearRegression(\n",
    "    featuresCol='features', # which is the default value\n",
    "    labelCol='Yearly Amount Spent',\n",
    "    predictionCol='predictions',\n",
    ")\n",
    "\n",
    "lr_model = lr.fit(train_data)"
   ]
  },
  {
   "cell_type": "code",
   "execution_count": 48,
   "id": "754b506b",
   "metadata": {},
   "outputs": [],
   "source": [
    "# Evaluate in Test Data\n",
    "test_results = lr_model.evaluate(test_data)"
   ]
  },
  {
   "cell_type": "code",
   "execution_count": 54,
   "id": "ab5d8786",
   "metadata": {},
   "outputs": [
    {
     "name": "stdout",
     "output_type": "stream",
     "text": [
      "+-------------------+\n",
      "|          residuals|\n",
      "+-------------------+\n",
      "|   9.30470132544042|\n",
      "| -4.877881134034908|\n",
      "|-0.7238967556937155|\n",
      "| -4.029092545027595|\n",
      "| -6.742230812539731|\n",
      "| -22.19918020894022|\n",
      "|0.09756949945040105|\n",
      "| -5.675249651060085|\n",
      "|-2.6034602321134344|\n",
      "| 17.888804518142024|\n",
      "|  6.796291415266694|\n",
      "|-1.2044998730269754|\n",
      "| -6.252622801098539|\n",
      "| -3.919734615931702|\n",
      "|-17.274354519846895|\n",
      "| 0.9874118486566204|\n",
      "|  -9.82736239744429|\n",
      "| 11.858639554215245|\n",
      "|-13.916339351990928|\n",
      "| -6.855496241876494|\n",
      "+-------------------+\n",
      "only showing top 20 rows\n",
      "\n"
     ]
    }
   ],
   "source": [
    "# Residuals - Difference between the actual value and the prediction\n",
    "test_results.residuals.show()"
   ]
  },
  {
   "cell_type": "code",
   "execution_count": 55,
   "id": "b172b7a8",
   "metadata": {},
   "outputs": [
    {
     "name": "stdout",
     "output_type": "stream",
     "text": [
      "+--------------------+-------------------+------------------+\n",
      "|            features|Yearly Amount Spent|       predictions|\n",
      "+--------------------+-------------------+------------------+\n",
      "|[29.5324289670579...|  408.6403510726275|399.33564974718706|\n",
      "|[30.4925366965402...|  282.4712457199145|287.34912685394943|\n",
      "|[30.5743636841713...| 442.06441375806565|442.78831051375937|\n",
      "|[30.8794843441274...|  490.2065999848547| 494.2356925298823|\n",
      "|[31.0613251567161...|  487.5554580579016|494.29768887044133|\n",
      "|[31.1239743499119...|  486.9470538397658|  509.146234048706|\n",
      "|[31.3895854806643...|  410.0696110599829| 409.9720415605325|\n",
      "|[31.5147378578019...|  489.8124879964614| 495.4877376475215|\n",
      "|[31.5761319713222...|  541.2265839893283| 543.8300442214418|\n",
      "|[31.6005122003032...| 479.17285149109694| 461.2840469729549|\n",
      "|[31.6548096756927...|  475.2634237275485| 468.4671323122818|\n",
      "|[31.6610498227460...| 416.35835357990084| 417.5628534529278|\n",
      "|[31.7242025238451...|  503.3878872879605|509.64051008905903|\n",
      "|[31.8124825597242...|  392.8103449837972| 396.7300795997289|\n",
      "|[31.8164283341993...| 501.12249150365636| 518.3968460235033|\n",
      "|[31.8293464559211...|   385.152337987975|384.16492613931837|\n",
      "|[31.8648325480987...|  439.8912804768137|449.71864287425797|\n",
      "|[31.9262720263601...|  392.2049334443264|380.34629389011116|\n",
      "|[31.9365486184489...|  427.1993848953282| 441.1157242473191|\n",
      "|[31.9453957483445...|  657.0199239376519| 663.8754201795284|\n",
      "+--------------------+-------------------+------------------+\n",
      "only showing top 20 rows\n",
      "\n"
     ]
    }
   ],
   "source": [
    "# Actual Predictions\n",
    "test_results.predictions.show()"
   ]
  },
  {
   "cell_type": "code",
   "execution_count": 56,
   "id": "02f6a25b",
   "metadata": {},
   "outputs": [
    {
     "data": {
      "text/plain": [
       "9.998779727933742"
      ]
     },
     "execution_count": 56,
     "metadata": {},
     "output_type": "execute_result"
    }
   ],
   "source": [
    "test_results.rootMeanSquaredError"
   ]
  },
  {
   "cell_type": "code",
   "execution_count": 57,
   "id": "579f0b05",
   "metadata": {},
   "outputs": [
    {
     "data": {
      "text/plain": [
       "0.985213004336492"
      ]
     },
     "execution_count": 57,
     "metadata": {},
     "output_type": "execute_result"
    }
   ],
   "source": [
    "test_results.r2"
   ]
  }
 ],
 "metadata": {
  "kernelspec": {
   "display_name": "Python 3 (ipykernel)",
   "language": "python",
   "name": "python3"
  },
  "language_info": {
   "codemirror_mode": {
    "name": "ipython",
    "version": 3
   },
   "file_extension": ".py",
   "mimetype": "text/x-python",
   "name": "python",
   "nbconvert_exporter": "python",
   "pygments_lexer": "ipython3",
   "version": "3.7.6"
  }
 },
 "nbformat": 4,
 "nbformat_minor": 5
}
